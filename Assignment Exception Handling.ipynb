{
 "cells": [
  {
   "cell_type": "code",
   "execution_count": null,
   "id": "f1c7be04-0113-44bc-9301-e2007e1d8568",
   "metadata": {},
   "outputs": [],
   "source": [
    "#Q.1\n",
    "Having custom exceptions - tailored to your specific use cases and that you can raise and catch\n",
    "in specific circumstances - can make your code much more readable and robust,\n",
    "and reduce the amount of code you write later to try and figure out what exactly went wrong."
   ]
  },
  {
   "cell_type": "code",
   "execution_count": 1,
   "id": "26dfa67c-5bc3-4596-acfa-e3805f41845e",
   "metadata": {},
   "outputs": [
    {
     "name": "stdout",
     "output_type": "stream",
     "text": [
      "Error: Denominator cannot be 0.\n",
      "This is finally block.\n"
     ]
    }
   ],
   "source": [
    "#Q.2\n",
    "try:\n",
    "    numerator = 10\n",
    "    denominator = 0\n",
    "\n",
    "    result = numerator/denominator\n",
    "\n",
    "    print(result)\n",
    "except:\n",
    "    print(\"Error: Denominator cannot be 0.\")\n",
    "    \n",
    "finally:\n",
    "    print(\"This is finally block.\")"
   ]
  },
  {
   "cell_type": "code",
   "execution_count": 3,
   "id": "40c46c56-5b9b-4f96-bd14-89e20481291c",
   "metadata": {},
   "outputs": [
    {
     "name": "stdout",
     "output_type": "stream",
     "text": [
      "This statement is raising an arithmetic exception.\n"
     ]
    }
   ],
   "source": [
    "#Q.3\n",
    "#exception ArithmeticError\n",
    "#This class is the base class for those built-in exceptions that are raised for various arithmetic errors such as :\n",
    "#OverflowError\n",
    "#ZeroDivisionError\n",
    "\n",
    "#Example\n",
    "try:  \n",
    "    a = 10/0  \n",
    "    print (a)\n",
    "except ArithmeticError:  \n",
    "        print (\"This statement is raising an arithmetic exception.\")\n",
    "else:  \n",
    "    print (\"Success.\")\n",
    "\n",
    "#Example2\n",
    "\n",
    "try :\n",
    "    10/0\n",
    "except ZeroDivisionError as e :\n",
    "    print(\"i am trying to handle a zerodivisionerror \" ,e)"
   ]
  },
  {
   "cell_type": "code",
   "execution_count": null,
   "id": "00953c73-e61a-40b0-8169-4ad7b447be83",
   "metadata": {},
   "outputs": [],
   "source": [
    "#Q.4\n",
    "# Lookup Error acts as a base class for the exceptions that occur when a key or index used on a mapping \n",
    "# or sequence of a list/dictionary is invalid or does not exists.\n",
    "# The two types of exceptions raised are: IndexError. KeyError.\n",
    "employees = {1: \"John\", 2: \"Darren\", 3: \"Paul\"}\n",
    "\n",
    "if 4 in employees:\n",
    "    print(employees[4])\n",
    "else:\n",
    "    print('Key not found')\n",
    "    \n",
    "#IndexError\n",
    "list2 = ['cat', 'bat', 'mat', 'cat', 'pet']\n",
    " \n",
    "print(list2.index('set'))"
   ]
  },
  {
   "cell_type": "code",
   "execution_count": null,
   "id": "76a3bc4c-9b92-4d42-98e4-697b1037d354",
   "metadata": {},
   "outputs": [],
   "source": [
    "#Q.5\n",
    "In Python, ImportError occurs when the Python program tries to import module which does not exist in the private table.\n",
    "This exception can be avoided using exception handling using try and except blocks.\n",
    "We also saw examples of how the ImportError occurs and how it is handled.\n",
    "\n",
    "#ModuleNotFoundError\n",
    "Sometimes, Python throws the ModuleNotFoundError afterward. What does this error mean in Python? As the name implies, \n",
    "this error occurs when you're trying to access or use a module that cannot be found.\n",
    "In the case of the title, the \"module named Python\" cannot be found. Python here can be any module."
   ]
  },
  {
   "cell_type": "code",
   "execution_count": null,
   "id": "adc3c201-ca38-4472-9c60-4ca4e53d4c7d",
   "metadata": {},
   "outputs": [],
   "source": [
    "#Q.5\n",
    "1.Use try/catch/finally blocks to recover from errors or release resources.\n",
    "2.Handle common conditions without throwing exceptions.\n",
    "Design classes so that exceptions can be avoided.\n",
    "Throw exceptions instead of returning an error code"
   ]
  }
 ],
 "metadata": {
  "kernelspec": {
   "display_name": "Python 3 (ipykernel)",
   "language": "python",
   "name": "python3"
  },
  "language_info": {
   "codemirror_mode": {
    "name": "ipython",
    "version": 3
   },
   "file_extension": ".py",
   "mimetype": "text/x-python",
   "name": "python",
   "nbconvert_exporter": "python",
   "pygments_lexer": "ipython3",
   "version": "3.10.8"
  }
 },
 "nbformat": 4,
 "nbformat_minor": 5
}
